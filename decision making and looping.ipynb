{
 "cells": [
  {
   "cell_type": "markdown",
   "metadata": {},
   "source": [
    "# if statement\n",
    "used to create programs that can make decisions\n",
    "if condition:\n",
    "       statement(s)\n",
    "       \n",
    "in python orientation it is used to define a block of code and a block of if statement is also determined using orientation\n",
    "\n",
    "\n",
    "example:"
   ]
  },
  {
   "cell_type": "code",
   "execution_count": null,
   "metadata": {},
   "outputs": [],
   "source": [
    "num=5 \n",
    "if num >0:\n",
    "    print(\"num is positive\")\n",
    "print(\"pmc is good\")"
   ]
  },
  {
   "cell_type": "code",
   "execution_count": 1,
   "metadata": {},
   "outputs": [
    {
     "name": "stdout",
     "output_type": "stream",
     "text": [
      "num is positive\n",
      "pmc is good\n"
     ]
    }
   ],
   "source": [
    "num =1\n",
    "if num >0:\n",
    "    print(\"num is positive\")\n",
    "print(\"pmc is good\")"
   ]
  },
  {
   "cell_type": "markdown",
   "metadata": {},
   "source": [
    "IF ELSE"
   ]
  },
  {
   "cell_type": "code",
   "execution_count": 7,
   "metadata": {},
   "outputs": [
    {
     "name": "stdout",
     "output_type": "stream",
     "text": [
      "num is negative\n"
     ]
    }
   ],
   "source": [
    "num=-5 \n",
    "if num >0:\n",
    "    print(\"num is positive\")\n",
    "else:\n",
    "    print(\"num is negative\")"
   ]
  },
  {
   "cell_type": "markdown",
   "metadata": {},
   "source": [
    "if...elif...else"
   ]
  },
  {
   "cell_type": "code",
   "execution_count": 14,
   "metadata": {},
   "outputs": [
    {
     "name": "stdout",
     "output_type": "stream",
     "text": [
      "enter grade:\n",
      "40\n",
      "pass\n"
     ]
    }
   ],
   "source": [
    "grade = int(input(\"enter grade:\\n\"))\n",
    "if grade >=90:\n",
    "    print(\"excellent\")\n",
    "elif grade >=60:\n",
    "    print(\"good\")\n",
    "elif grade >=40:\n",
    "    print(\"pass\")\n",
    "\n",
    "else:\n",
    "    print(\"you're joking\")"
   ]
  },
  {
   "cell_type": "code",
   "execution_count": 4,
   "metadata": {},
   "outputs": [
    {
     "name": "stdout",
     "output_type": "stream",
     "text": [
      "enter a num: -4\n",
      "negative num\n"
     ]
    }
   ],
   "source": [
    "num = float(input(\"enter a num: \"))\n",
    "if num >= 0:\n",
    "    if num == 0:\n",
    "        print(\"zero\")\n",
    "    else:\n",
    "        print(\"positive num\")\n",
    "else:\n",
    "    print(\"negative num\")\n",
    "    \n"
   ]
  },
  {
   "cell_type": "markdown",
   "metadata": {},
   "source": [
    "simple calculator"
   ]
  },
  {
   "cell_type": "code",
   "execution_count": 23,
   "metadata": {},
   "outputs": [
    {
     "name": "stdout",
     "output_type": "stream",
     "text": [
      "number is negative\n"
     ]
    }
   ],
   "source": [
    "number=10\n",
    "if num >5:\n",
    "    print(\"number is positive\")\n",
    "    \n",
    "else:\n",
    "        print(\"number is negative\")"
   ]
  },
  {
   "cell_type": "code",
   "execution_count": 28,
   "metadata": {},
   "outputs": [
    {
     "name": "stdout",
     "output_type": "stream",
     "text": [
      "enter grade:k\n",
      "invalid\n"
     ]
    }
   ],
   "source": [
    "grade = (input(\"enter grade:\"))\n",
    "if grade== \"A\":\n",
    "    print(\"distinction\")\n",
    "    \n",
    "elif grade ==\"B\":\n",
    "    print (\"pass\")\n",
    "elif grade== \"c\":\n",
    "    print(\"fail\")\n",
    "else:\n",
    "    print(\"invalid\")\n",
    "    "
   ]
  },
  {
   "cell_type": "code",
   "execution_count": 5,
   "metadata": {},
   "outputs": [
    {
     "name": "stdout",
     "output_type": "stream",
     "text": [
      "welcome to our calc... which operator  do you want to use\n",
      "enter either + ,-,* or /: *\n",
      "enter the first num: 3\n",
      "enter the second num: 2\n",
      "3.0 * 2.0 = 6.0\n"
     ]
    }
   ],
   "source": [
    "print(\"welcome to our calc... which operator  do you want to use\")\n",
    "\n",
    "operator = input (\"enter either + ,-,* or /: \")\n",
    "num1 = float(input(\"enter the first num: \"))\n",
    "num2 = float(input(\"enter the second num: \"))\n",
    "if operator == \"+\":\n",
    "    print(num1, operator, num2, \"=\", num1 + num2)\n",
    "elif operator == \"-\":\n",
    "    print(num1, operator, num2, \"=\", num1 -num2)\n",
    "elif operator == \"*\":\n",
    "    print(num1, operator, num2, \"=\", num1 * num2)\n",
    "elif operator ==\"/\":\n",
    "    print(num1, operator, num2, \"=\", num1 / num2)\n",
    "else:\n",
    "    print(\"invalid operator\")"
   ]
  },
  {
   "cell_type": "markdown",
   "metadata": {},
   "source": [
    "WHILE LOOP"
   ]
  },
  {
   "cell_type": "code",
   "execution_count": 1,
   "metadata": {},
   "outputs": [
    {
     "name": "stdout",
     "output_type": "stream",
     "text": [
      "loop is easy\n",
      "loop is easy\n",
      "loop is easy\n"
     ]
    }
   ],
   "source": [
    "n=3 \n",
    "i=1\n",
    "while i<= n:\n",
    "    print(\"loop is easy\")\n",
    "    i = i+1"
   ]
  },
  {
   "cell_type": "code",
   "execution_count": null,
   "metadata": {},
   "outputs": [],
   "source": [
    "print(\"jhblk\")"
   ]
  },
  {
   "cell_type": "code",
   "execution_count": 5,
   "metadata": {},
   "outputs": [
    {
     "name": "stdout",
     "output_type": "stream",
     "text": [
      "loop is easy\n",
      "loop is easy\n",
      "loop is easy\n"
     ]
    }
   ],
   "source": [
    "n=3 \n",
    "i=1\n",
    "while i<= n:\n",
    "    print(\"loop is easy\")\n",
    "    i = i+1"
   ]
  },
  {
   "cell_type": "code",
   "execution_count": 66,
   "metadata": {},
   "outputs": [],
   "source": [
    "def sumofnum(a,b):\n",
    "    sum=a+b\n",
    "    return sum"
   ]
  },
  {
   "cell_type": "code",
   "execution_count": 67,
   "metadata": {},
   "outputs": [
    {
     "data": {
      "text/plain": [
       "5"
      ]
     },
     "execution_count": 67,
     "metadata": {},
     "output_type": "execute_result"
    }
   ],
   "source": [
    " sumofnum(2,3)"
   ]
  },
  {
   "cell_type": "code",
   "execution_count": 24,
   "metadata": {},
   "outputs": [
    {
     "name": "stdout",
     "output_type": "stream",
     "text": [
      "enter number:12\n",
      "invalid\n"
     ]
    }
   ],
   "source": [
    "y=10\n",
    "x=int(input(\"enter number:\"))\n",
    "while x<y:\n",
    "    print(\"positive number\")\n",
    "    x=x+1\n",
    "else:\n",
    "    print(\"invalid\")\n",
    "\n",
    "    "
   ]
  },
  {
   "cell_type": "markdown",
   "metadata": {},
   "source": [
    "# sum of natural numbers"
   ]
  },
  {
   "cell_type": "code",
   "execution_count": 70,
   "metadata": {},
   "outputs": [
    {
     "name": "stdout",
     "output_type": "stream",
     "text": [
      "enter the number to sum:3\n",
      "the sum of numbers is 6\n"
     ]
    }
   ],
   "source": [
    "numbers=int(input(\"enter the number to sum:\"))\n",
    "\n",
    "sum = 0\n",
    "x = 1\n",
    "while x <= numbers:\n",
    "    sum= sum + x\n",
    "    x= x + 1\n",
    "print(\"the sum of numbers is\", sum)\n",
    "    \n"
   ]
  },
  {
   "cell_type": "code",
   "execution_count": 2,
   "metadata": {},
   "outputs": [
    {
     "name": "stdout",
     "output_type": "stream",
     "text": [
      "enter a number:5\n",
      "inside else\n"
     ]
    }
   ],
   "source": [
    "counter = int(input(\"enter a number:\"))\n",
    "\n",
    "while counter <3:\n",
    "    print(\"this is inside loop\")\n",
    "    counter= counter +1\n",
    "else:\n",
    "    print(\"inside else\")\n"
   ]
  },
  {
   "cell_type": "markdown",
   "metadata": {},
   "source": [
    "# multiplication table"
   ]
  },
  {
   "cell_type": "code",
   "execution_count": 59,
   "metadata": {},
   "outputs": [
    {
     "name": "stdout",
     "output_type": "stream",
     "text": [
      "enter the number to multiply:5\n",
      "5 x 1 = 5\n",
      "5 x 2 = 10\n",
      "5 x 3 = 15\n",
      "5 x 4 = 20\n",
      "5 x 5 = 25\n",
      "5 x 6 = 30\n",
      "5 x 7 = 35\n",
      "5 x 8 = 40\n",
      "5 x 9 = 45\n",
      "5 x 10 = 50\n"
     ]
    }
   ],
   "source": [
    "n= int(input(\"enter the number to multiply:\"))\n",
    "i = 1\n",
    "while i<= 10:\n",
    "    print(n, \"x\", i, \"=\", n*i)\n",
    "    i+=1\n"
   ]
  },
  {
   "cell_type": "markdown",
   "metadata": {},
   "source": [
    "# for loop"
   ]
  },
  {
   "cell_type": "code",
   "execution_count": 36,
   "metadata": {},
   "outputs": [],
   "source": [
    "fruits=(\"orange\",\"mango\", \"apple\",\"avocado\", \"banana\")"
   ]
  },
  {
   "cell_type": "code",
   "execution_count": 38,
   "metadata": {},
   "outputs": [
    {
     "name": "stdout",
     "output_type": "stream",
     "text": [
      "('orange', 'mango', 'apple', 'avocado', 'banana')\n"
     ]
    }
   ],
   "source": [
    "print(fruits)"
   ]
  },
  {
   "cell_type": "code",
   "execution_count": 39,
   "metadata": {},
   "outputs": [
    {
     "name": "stdout",
     "output_type": "stream",
     "text": [
      "orange\n",
      "mango\n",
      "apple\n",
      "avocado\n",
      "banana\n"
     ]
    }
   ],
   "source": [
    "for x in fruits :\n",
    "    print(x)"
   ]
  },
  {
   "cell_type": "markdown",
   "metadata": {},
   "source": [
    "# range"
   ]
  },
  {
   "cell_type": "code",
   "execution_count": 40,
   "metadata": {},
   "outputs": [],
   "source": [
    "x = range(10)"
   ]
  },
  {
   "cell_type": "code",
   "execution_count": 41,
   "metadata": {},
   "outputs": [
    {
     "data": {
      "text/plain": [
       "range(0, 10)"
      ]
     },
     "execution_count": 41,
     "metadata": {},
     "output_type": "execute_result"
    }
   ],
   "source": [
    "x"
   ]
  },
  {
   "cell_type": "code",
   "execution_count": 61,
   "metadata": {},
   "outputs": [
    {
     "name": "stdout",
     "output_type": "stream",
     "text": [
      "2\n",
      "4\n",
      "6\n",
      "8\n",
      "10\n",
      "12\n"
     ]
    }
   ],
   "source": [
    "for b in range(2,14, 2):\n",
    "    print(b)"
   ]
  },
  {
   "cell_type": "markdown",
   "metadata": {},
   "source": [
    "SUM"
   ]
  },
  {
   "cell_type": "code",
   "execution_count": 4,
   "metadata": {},
   "outputs": [
    {
     "name": "stdout",
     "output_type": "stream",
     "text": [
      "sum 100\n"
     ]
    }
   ],
   "source": [
    "number = range(1,101)\n",
    "sum = 0\n",
    "\n",
    "for x in number:\n",
    "    sum =sum+1\n",
    "print (\"sum\", sum)"
   ]
  },
  {
   "cell_type": "code",
   "execution_count": 52,
   "metadata": {},
   "outputs": [
    {
     "name": "stdout",
     "output_type": "stream",
     "text": [
      "enter the number to multiply:6\n",
      "6 x 1 = 6\n",
      "6 x 2 = 12\n",
      "6 x 3 = 18\n",
      "6 x 4 = 24\n",
      "6 x 5 = 30\n",
      "6 x 6 = 36\n",
      "6 x 7 = 42\n",
      "6 x 8 = 48\n",
      "6 x 9 = 54\n",
      "6 x 10 = 60\n"
     ]
    }
   ],
   "source": [
    "n= int(input(\"enter the number to multiply:\"))\n",
    "\n",
    "for x in range (1, 11):\n",
    "    print(n,\"x\", x,\"=\",n*x)"
   ]
  },
  {
   "cell_type": "code",
   "execution_count": 54,
   "metadata": {},
   "outputs": [
    {
     "name": "stdout",
     "output_type": "stream",
     "text": [
      "orange\n",
      "mango\n",
      "apple\n",
      "avocado\n",
      "banana\n",
      "no fruits\n"
     ]
    }
   ],
   "source": [
    "for x in fruits:\n",
    "    print(x)\n",
    "else:\n",
    "    print(\"no fruits\")"
   ]
  },
  {
   "cell_type": "code",
   "execution_count": 3,
   "metadata": {},
   "outputs": [
    {
     "name": "stdout",
     "output_type": "stream",
     "text": [
      "sum =  245\n"
     ]
    }
   ],
   "source": [
    "\n",
    "sum = 0\n",
    "for x in range (20,30):\n",
    "    sum = sum + x\n",
    "    x = x +1\n",
    "print(\"sum = \", sum)\n",
    "    "
   ]
  },
  {
   "cell_type": "markdown",
   "metadata": {},
   "source": [
    "# break statements"
   ]
  },
  {
   "cell_type": "code",
   "execution_count": 9,
   "metadata": {},
   "outputs": [
    {
     "name": "stdout",
     "output_type": "stream",
     "text": [
      "enter a number:7\n",
      "enter a number:8\n",
      "enter a number:9\n",
      "enter a number:10\n",
      "enter a number:11\n",
      "sum 34.0\n"
     ]
    }
   ],
   "source": [
    "sum = 0\n",
    "while True:\n",
    "    n= float(input(\"enter a number:\"))\n",
    "    \n",
    "    if n>10:\n",
    "         break\n",
    "    sum +=n\n",
    "print(\"sum\", sum)\n",
    "       "
   ]
  },
  {
   "cell_type": "code",
   "execution_count": 11,
   "metadata": {},
   "outputs": [],
   "source": [
    "numbers=[1,5,7,-29,11,-2,-5,20,3,0.2] (skip)"
   ]
  },
  {
   "cell_type": "code",
   "execution_count": 12,
   "metadata": {},
   "outputs": [
    {
     "name": "stdout",
     "output_type": "stream",
     "text": [
      "1\n",
      "5\n",
      "7\n",
      "11\n",
      "20\n",
      "3\n",
      "0.2\n"
     ]
    }
   ],
   "source": [
    "for val in numbers:\n",
    "    if val <=0:\n",
    "        continue\n",
    "    print(val)"
   ]
  },
  {
   "cell_type": "code",
   "execution_count": 13,
   "metadata": {},
   "outputs": [],
   "source": [
    "sequence= {'p','a','w', 's','s'}"
   ]
  },
  {
   "cell_type": "code",
   "execution_count": 14,
   "metadata": {},
   "outputs": [
    {
     "name": "stdout",
     "output_type": "stream",
     "text": [
      "after loop\n"
     ]
    }
   ],
   "source": [
    "for val in sequence:\n",
    "    pass\n",
    "print(\"after loop\")"
   ]
  },
  {
   "cell_type": "markdown",
   "metadata": {},
   "source": [
    "odd or even number"
   ]
  },
  {
   "cell_type": "markdown",
   "metadata": {},
   "source": [
    "1. program that checks larger number among 3 numbers\n",
    "2. checks leap year\n",
    "3. computes facturial of a number\n",
    "4. checks prime number"
   ]
  },
  {
   "cell_type": "code",
   "execution_count": 8,
   "metadata": {},
   "outputs": [
    {
     "name": "stdout",
     "output_type": "stream",
     "text": [
      "enter num1:4\n",
      "enter num2:2\n",
      "enter num3:8\n",
      "the largest number is 8.0\n"
     ]
    }
   ],
   "source": [
    "#largest number \n",
    "num1 =float(input(\"enter num1:\"))\n",
    "num2= float(input(\"enter num2:\"))\n",
    "num3= float(input(\"enter num3:\"))\n",
    "if (num1>= num2) and (num1 >=num3):\n",
    "    largest = num1\n",
    "elif (num2>= num1) and (num2>=num3):\n",
    "    largest = num2\n",
    "else:\n",
    "    largest = num3\n",
    "print(\"the largest number is\", largest)"
   ]
  },
  {
   "cell_type": "raw",
   "metadata": {},
   "source": [
    "##### leap year\n",
    "year = int(input(\"enter year:\"))\n",
    "\n",
    "if (year % 4)== 0:\n",
    "    if(year % 10)== 0:\n",
    "        if (year % 4)== 0:\n",
    "            print(\"is a leap year\")\n",
    "        else:\n",
    "            print(\"is not leap year\")\n",
    "    else:\n",
    "        print(\"is a leap year \")\n",
    "else:\n",
    "    print(\"is not a leap year\")\n"
   ]
  },
  {
   "cell_type": "code",
   "execution_count": 12,
   "metadata": {},
   "outputs": [
    {
     "name": "stdout",
     "output_type": "stream",
     "text": [
      "enter the number to find fibonacci value6\n",
      "fibonacci sequence upto 6 :\n",
      "0,\n",
      "1,\n",
      "1,\n",
      "2,\n",
      "3,\n",
      "5,\n"
     ]
    }
   ],
   "source": [
    "#fibonacci\n",
    "\n",
    "n_th_term= int(input(\"enter the number to find fibonacci value\"))\n",
    "n1 = 0\n",
    "n2 = 1\n",
    "counter = 0\n",
    "\n",
    "print(\"fibonacci sequence upto\", n_th_term,\":\")\n",
    "while counter < n_th_term:\n",
    "    print(n1, end= \",\")\n",
    "    nth = n1 + n2\n",
    "    \n",
    "    n1 = n2\n",
    "    n2 = nth\n",
    "    counter += 1\n",
    "    print()\n",
    "    "
   ]
  },
  {
   "cell_type": "code",
   "execution_count": 13,
   "metadata": {},
   "outputs": [
    {
     "name": "stdout",
     "output_type": "stream",
     "text": [
      "enter number to find fibonacci value:5\n",
      "fibonacci number upto 5\n"
     ]
    }
   ],
   "source": [
    "n_thterm= int(input(\"enter number to find fibonacci value:\"))\n",
    "n1= 0\n",
    "n2= 1\n",
    "print (\"fibonacci number upto\", n_thterm)\n"
   ]
  },
  {
   "cell_type": "code",
   "execution_count": 4,
   "metadata": {},
   "outputs": [
    {
     "name": "stdout",
     "output_type": "stream",
     "text": [
      "enter num1:23\n",
      "enter num2:32\n",
      "enter num3:64\n",
      "the largest number is 64.0\n"
     ]
    }
   ],
   "source": [
    "num1 = float(input (\"enter num1:\"))\n",
    "num2 = float(input (\"enter num2:\"))\n",
    "num3 = float(input (\"enter num3:\"))\n",
    "if (num1 >=num2) and (num1 >=num3):\n",
    "    largest = num1\n",
    "elif (num2 >=num1) and (num2 >=num3):\n",
    "    largest = num2\n",
    "else:\n",
    "    largest = num3\n",
    "print(\"the largest number is\", largest)"
   ]
  },
  {
   "cell_type": "code",
   "execution_count": null,
   "metadata": {},
   "outputs": [],
   "source": []
  },
  {
   "cell_type": "code",
   "execution_count": null,
   "metadata": {},
   "outputs": [],
   "source": []
  }
 ],
 "metadata": {
  "kernelspec": {
   "display_name": "Python 3",
   "language": "python",
   "name": "python3"
  },
  "language_info": {
   "codemirror_mode": {
    "name": "ipython",
    "version": 3
   },
   "file_extension": ".py",
   "mimetype": "text/x-python",
   "name": "python",
   "nbconvert_exporter": "python",
   "pygments_lexer": "ipython3",
   "version": "3.7.4"
  }
 },
 "nbformat": 4,
 "nbformat_minor": 2
}
