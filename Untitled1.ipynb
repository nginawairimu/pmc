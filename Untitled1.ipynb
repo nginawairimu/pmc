{
 "cells": [
  {
   "cell_type": "code",
   "execution_count": 1,
   "metadata": {},
   "outputs": [
    {
     "name": "stdout",
     "output_type": "stream",
     "text": [
      "loop is easy\n",
      "loop is easy\n",
      "loop is easy\n"
     ]
    }
   ],
   "source": [
    "\n",
    "#n=3\n",
    "i=1\n",
    "while i<=n:\n",
    "    print(\"loop is easy\")\n",
    "    i=i+1"
   ]
  },
  {
   "cell_type": "code",
   "execution_count": 4,
   "metadata": {},
   "outputs": [
    {
     "name": "stdout",
     "output_type": "stream",
     "text": [
      "Enter any value: 99\n",
      " its sweet\n"
     ]
    }
   ],
   "source": [
    "#while\n",
    "n  = int(input(\"Enter any value: \"))\n",
    "\n",
    "while n <100:\n",
    "    print(\" its sweet\")\n",
    "    n += 1"
   ]
  },
  {
   "cell_type": "code",
   "execution_count": 5,
   "metadata": {},
   "outputs": [
    {
     "name": "stdout",
     "output_type": "stream",
     "text": [
      "1\n",
      "3\n",
      "56\n",
      "67\n",
      "93\n",
      "34\n"
     ]
    }
   ],
   "source": [
    "#for loop\n",
    "list1 = [1,3, 56, 67, 93, 34]\n",
    "\n",
    "for x in list1:\n",
    "    print(x)"
   ]
  },
  {
   "cell_type": "code",
   "execution_count": 10,
   "metadata": {},
   "outputs": [
    {
     "name": "stdout",
     "output_type": "stream",
     "text": [
      "10\n",
      "20\n",
      "30\n",
      "40\n",
      "50\n",
      "60\n",
      "70\n",
      "80\n",
      "90\n"
     ]
    }
   ],
   "source": [
    "#for loop\n",
    "for x in range(10,100,10):\n",
    "    print(x)"
   ]
  },
  {
   "cell_type": "code",
   "execution_count": 13,
   "metadata": {},
   "outputs": [
    {
     "name": "stdout",
     "output_type": "stream",
     "text": [
      "Enter Value of X: 100\n",
      "yes...\n"
     ]
    }
   ],
   "source": [
    "#if elif else\n",
    "x = int(input(\"Enter Value of X: \"))\n",
    "\n",
    "if(x > 10):\n",
    "    print(\"yes...\")\n",
    "elif(x==10):\n",
    "    print(\"ops,,, they equal\")\n",
    "else:\n",
    "    print(\"get outer here\")"
   ]
  },
  {
   "cell_type": "code",
   "execution_count": null,
   "metadata": {},
   "outputs": [],
   "source": []
  }
 ],
 "metadata": {
  "kernelspec": {
   "display_name": "Python 3",
   "language": "python",
   "name": "python3"
  },
  "language_info": {
   "codemirror_mode": {
    "name": "ipython",
    "version": 3
   },
   "file_extension": ".py",
   "mimetype": "text/x-python",
   "name": "python",
   "nbconvert_exporter": "python",
   "pygments_lexer": "ipython3",
   "version": "3.7.4"
  }
 },
 "nbformat": 4,
 "nbformat_minor": 2
}
